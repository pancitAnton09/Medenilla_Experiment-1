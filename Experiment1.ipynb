{
 "cells": [
  {
   "cell_type": "markdown",
   "id": "a9cd6d09-0841-4e1d-b23c-52985d46dda8",
   "metadata": {},
   "source": [
    "# Experiment 1\n",
    "# Introduction to Python Programming"
   ]
  },
  {
   "cell_type": "markdown",
   "id": "418f7209-ca94-484f-a6e8-8d7474dfb4b2",
   "metadata": {},
   "source": [
    "## Alphabet Soup Problem"
   ]
  },
  {
   "cell_type": "code",
   "execution_count": 15,
   "id": "7301c819-acb7-434a-a695-3c70b6fe12d5",
   "metadata": {},
   "outputs": [
    {
     "name": "stdin",
     "output_type": "stream",
     "text": [
      "Please enter a string:  hello hacker\n"
     ]
    },
    {
     "name": "stdout",
     "output_type": "stream",
     "text": [
      "Sorted string:   aceehhkllor\n"
     ]
    }
   ],
   "source": [
    "#Define function sorting string alphabetically\n",
    "def sort_alphabetically(S):\n",
    "    sorted_STRING = ''.join(sorted(S))\n",
    "    return sorted_STRING\n",
    "\n",
    "#User Inputs A String\n",
    "user_input = input(\"Please enter a string: \")\n",
    "\n",
    "#Alphabetically sort the string\n",
    "result = sort_alphabetically(user_input)\n",
    "\n",
    "#Display the sorted result\n",
    "print(\"Sorted string: \", result)"
   ]
  },
  {
   "cell_type": "markdown",
   "id": "0f8919fd-43d0-4b52-a164-cda999629bc7",
   "metadata": {},
   "source": [
    "## Emoticon Problem"
   ]
  },
  {
   "cell_type": "code",
   "execution_count": 11,
   "id": "f24bdb29-c198-4011-9881-b805978362ed",
   "metadata": {},
   "outputs": [
    {
     "name": "stdin",
     "output_type": "stream",
     "text": [
      "Please enter a sentence:  smile sad grin mad\n"
     ]
    },
    {
     "name": "stdout",
     "output_type": "stream",
     "text": [
      ":) :(( :D >:(\n"
     ]
    }
   ],
   "source": [
    "#Define the function that changes specific words of a sentence into an emoticon\n",
    "def emotify(sentence):\n",
    "    #Dictionary of words to their corresponding emoticons\n",
    "    emoticons = { \"smile\": \":)\", \"grin\": \":D\", \"sad\": \":((\", \"mad\": \">:(\"}\n",
    "    \n",
    "    #Split the sentence into separate words\n",
    "    words = sentence.split()\n",
    "    \n",
    "    #Replace words with their corresponding emoticons\n",
    "    emotified = [emoticons.get(word, word) for word in words]\n",
    "    \n",
    "    #Combine the words back into a single sentence\n",
    "    new_sentence = ' '.join(emotified)\n",
    "    \n",
    "    return new_sentence\n",
    "\n",
    "#Get user input\n",
    "user_input = input(\"Please enter a sentence: \")\n",
    "\n",
    "#Replace words with emoticons\n",
    "result = emotify(user_input)\n",
    "\n",
    "#Display the result\n",
    "print(result)"
   ]
  },
  {
   "cell_type": "markdown",
   "id": "3de97ef3-d002-4f8f-8e9d-6936ef0cb654",
   "metadata": {},
   "source": [
    "## Unpacking List Problem"
   ]
  },
  {
   "cell_type": "code",
   "execution_count": 9,
   "id": "4aceb834-1a92-427a-8936-fc6264c0188c",
   "metadata": {},
   "outputs": [
    {
     "name": "stdout",
     "output_type": "stream",
     "text": [
      "first: 1  middle: [2, 3, 4, 5, 6, 7, 8, 9]  last: 10\n"
     ]
    }
   ],
   "source": [
    "#Define the list writeyourcode here\n",
    "writeyourcodehere = [1, 2, 3, 4, 5, 6, 7, 8, 9, 10]\n",
    "\n",
    "#Unpack the list\n",
    "first, *middle, last = writeyourcodehere\n",
    "\n",
    "#Print the variables\n",
    "print(\"first:\", first, \" middle:\", middle, \" last:\", last)"
   ]
  }
 ],
 "metadata": {
  "kernelspec": {
   "display_name": "Python 3 (ipykernel)",
   "language": "python",
   "name": "python3"
  },
  "language_info": {
   "codemirror_mode": {
    "name": "ipython",
    "version": 3
   },
   "file_extension": ".py",
   "mimetype": "text/x-python",
   "name": "python",
   "nbconvert_exporter": "python",
   "pygments_lexer": "ipython3",
   "version": "3.12.4"
  }
 },
 "nbformat": 4,
 "nbformat_minor": 5
}
